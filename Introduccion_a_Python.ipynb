{
  "nbformat": 4,
  "nbformat_minor": 0,
  "metadata": {
    "colab": {
      "name": "Introduccion a Python.ipynb",
      "private_outputs": true,
      "provenance": [],
      "authorship_tag": "ABX9TyOQw9K1qkHa10S+DscqmW1x",
      "include_colab_link": true
    },
    "kernelspec": {
      "name": "python3",
      "display_name": "Python 3"
    }
  },
  "cells": [
    {
      "cell_type": "markdown",
      "metadata": {
        "id": "view-in-github",
        "colab_type": "text"
      },
      "source": [
        "<a href=\"https://colab.research.google.com/github/IsaacMrSmile/Aprendiendo-Machine-Learning/blob/main/Introduccion_a_Python.ipynb\" target=\"_parent\"><img src=\"https://colab.research.google.com/assets/colab-badge.svg\" alt=\"Open In Colab\"/></a>"
      ]
    },
    {
      "cell_type": "markdown",
      "metadata": {
        "id": "xzWpvCUcuxi5"
      },
      "source": [
        "##Las variables"
      ]
    },
    {
      "cell_type": "markdown",
      "metadata": {
        "id": "FOUhe29swA3T"
      },
      "source": [
        "## Manejo de Strings en Python"
      ]
    },
    {
      "cell_type": "code",
      "metadata": {
        "id": "UXDpRShSuwiM"
      },
      "source": [
        "string = \"Hola a todos!\"\r\n",
        "string1 = \"Soy un Pokemon\"\r\n",
        "string2 = \"Hola\"\r\n",
        "print(string[7])\r\n"
      ],
      "execution_count": null,
      "outputs": []
    },
    {
      "cell_type": "code",
      "metadata": {
        "id": "-246V4yuwicp"
      },
      "source": [
        "nuevostring = string + string1\r\n",
        "print(nuevostring)"
      ],
      "execution_count": null,
      "outputs": []
    },
    {
      "cell_type": "code",
      "metadata": {
        "id": "fxb1CqVgwsFs"
      },
      "source": [
        "print(string[6:12])\r\n"
      ],
      "execution_count": null,
      "outputs": []
    },
    {
      "cell_type": "code",
      "metadata": {
        "id": "jpIhlsPrwy-E"
      },
      "source": [
        "stringconespacios =\"   Hola , ¿ ves los espacios?   \"\r\n",
        "print(len(stringconespacios))"
      ],
      "execution_count": null,
      "outputs": []
    },
    {
      "cell_type": "code",
      "metadata": {
        "id": "MlaCz4c2YAK5"
      },
      "source": [
        "if string [0:4] == string2:\r\n",
        "    print(\"Los elementos son iguales\")\r\n",
        "else:\r\n",
        "    print(\"Los elementos no son iguales\")\r\n"
      ],
      "execution_count": null,
      "outputs": []
    },
    {
      "cell_type": "code",
      "metadata": {
        "id": "LKvHBReAY3nz"
      },
      "source": [
        "print(string2.lower())\r\n",
        "print(string2.upper())\r\n",
        "print(string2.replace(\"Ho\", \"Koa\"))\r\n"
      ],
      "execution_count": null,
      "outputs": []
    },
    {
      "cell_type": "markdown",
      "metadata": {
        "id": "KYAaPKSUaEyw"
      },
      "source": [
        "## **Listas**\r\n",
        "\r\n",
        "Que es una lista? \r\n"
      ]
    },
    {
      "cell_type": "code",
      "metadata": {
        "id": "aI8EYrZbaHVJ"
      },
      "source": [
        "listanumerica = [1, 2, 3, 4]\r\n",
        "listastring = [\"Peras\", \"Manzanas\", \"Plantanos\"]\r\n",
        "listacombinada = [\"Peras\", 2, \"Sandia\", 3]\r\n",
        "L1 = list(range(10)) # range permite generar un conjunto de valores\r\n"
      ],
      "execution_count": null,
      "outputs": []
    },
    {
      "cell_type": "code",
      "metadata": {
        "id": "DUBoPXdVblyX"
      },
      "source": [
        "print(listanumerica)\r\n",
        "print(listastring)\r\n",
        "print(listacombinada)\r\n",
        "print(L1)"
      ],
      "execution_count": null,
      "outputs": []
    },
    {
      "cell_type": "markdown",
      "metadata": {
        "id": "cgfyEyM_bzuO"
      },
      "source": [
        "## Uso de \"range\" y Generacion de listas"
      ]
    },
    {
      "cell_type": "code",
      "metadata": {
        "id": "h6z1zrMFb7KQ"
      },
      "source": [
        "L2= list(range(0, 20, 2))\r\n",
        "print(L2)"
      ],
      "execution_count": null,
      "outputs": []
    },
    {
      "cell_type": "code",
      "metadata": {
        "id": "35Bpq4qtcLQw"
      },
      "source": [
        "L3= list(range(0, 100, 3))\r\n",
        "print(L3)"
      ],
      "execution_count": null,
      "outputs": []
    },
    {
      "cell_type": "markdown",
      "metadata": {
        "id": "cIe7wXXVcVqX"
      },
      "source": [
        "## **Metodos Comunes de crear Listas**"
      ]
    },
    {
      "cell_type": "code",
      "metadata": {
        "id": "2kx5eKQUcUe-"
      },
      "source": [
        "L4 =  list(range(0 , 11, 1))\r\n",
        "print(L4)\r\n"
      ],
      "execution_count": null,
      "outputs": []
    },
    {
      "cell_type": "code",
      "metadata": {
        "id": "sUdB0kCSeXT9"
      },
      "source": [
        "L4.append(12) # añadir un valor al final de la lista\r\n",
        "print(L4)"
      ],
      "execution_count": null,
      "outputs": []
    },
    {
      "cell_type": "code",
      "metadata": {
        "id": "09iMjh1Tef32"
      },
      "source": [
        "L4.extend([12,15])\r\n",
        "print(L4)"
      ],
      "execution_count": null,
      "outputs": []
    },
    {
      "cell_type": "code",
      "metadata": {
        "id": "sp6aAnR-e1hv"
      },
      "source": [
        "L4.remove(12)\r\n",
        "print(L4)"
      ],
      "execution_count": null,
      "outputs": []
    },
    {
      "cell_type": "code",
      "metadata": {
        "id": "0H_sT62VfEL8"
      },
      "source": [
        "print(L4.index(1))"
      ],
      "execution_count": null,
      "outputs": []
    },
    {
      "cell_type": "code",
      "metadata": {
        "id": "yjzxk3I1fKaS"
      },
      "source": [
        "print(L4.count(12))#numero de veces que se repite un valor"
      ],
      "execution_count": null,
      "outputs": []
    },
    {
      "cell_type": "code",
      "metadata": {
        "id": "hJc2hRNcfTIM"
      },
      "source": [
        "L4.append(15) # numero de veces que se repite un valor\r\n",
        "print(L4.count(15))\r\n"
      ],
      "execution_count": null,
      "outputs": []
    },
    {
      "cell_type": "code",
      "metadata": {
        "id": "GjdLILM1ffo3"
      },
      "source": [
        "L4.reverse()# darle la vuelta a la lista"
      ],
      "execution_count": null,
      "outputs": []
    },
    {
      "cell_type": "code",
      "metadata": {
        "id": "-2lbQI2TfuaN"
      },
      "source": [
        "print(L4)"
      ],
      "execution_count": null,
      "outputs": []
    },
    {
      "cell_type": "code",
      "metadata": {
        "id": "VxU3y90lfxtv"
      },
      "source": [
        "type(L4)"
      ],
      "execution_count": null,
      "outputs": []
    },
    {
      "cell_type": "markdown",
      "metadata": {
        "id": "DRcdcCHQf2KM"
      },
      "source": [
        "#**Que es una Tupla?**\r\n",
        "\r\n"
      ]
    },
    {
      "cell_type": "markdown",
      "metadata": {
        "id": "zagX35XGgzLM"
      },
      "source": [
        "## **Conjunto ordenado de elementos del mismo tipo o diferentes que es inmutable**\r\n"
      ]
    },
    {
      "cell_type": "code",
      "metadata": {
        "id": "6DpkhqxDf06B"
      },
      "source": [
        ""
      ],
      "execution_count": null,
      "outputs": []
    }
  ]
}