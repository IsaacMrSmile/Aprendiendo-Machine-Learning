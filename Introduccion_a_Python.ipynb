{
  "nbformat": 4,
  "nbformat_minor": 0,
  "metadata": {
    "colab": {
      "name": "Introduccion a Python.ipynb",
      "private_outputs": true,
      "provenance": [],
      "authorship_tag": "ABX9TyNvyNYpqgtAO6/3D8lwEJ/S",
      "include_colab_link": true
    },
    "kernelspec": {
      "name": "python3",
      "display_name": "Python 3"
    }
  },
  "cells": [
    {
      "cell_type": "markdown",
      "metadata": {
        "id": "view-in-github",
        "colab_type": "text"
      },
      "source": [
        "<a href=\"https://colab.research.google.com/github/IsaacMrSmile/Aprendiendo-Machine-Learning/blob/main/Introduccion_a_Python.ipynb\" target=\"_parent\"><img src=\"https://colab.research.google.com/assets/colab-badge.svg\" alt=\"Open In Colab\"/></a>"
      ]
    },
    {
      "cell_type": "markdown",
      "metadata": {
        "id": "xzWpvCUcuxi5"
      },
      "source": [
        "##Las variables"
      ]
    },
    {
      "cell_type": "markdown",
      "metadata": {
        "id": "FOUhe29swA3T"
      },
      "source": [
        "## Manejo de Strings en Python"
      ]
    },
    {
      "cell_type": "code",
      "metadata": {
        "id": "UXDpRShSuwiM"
      },
      "source": [
        "string = \"Hola a todos!\"\r\n",
        "string1 = \"Soy un Pokemon\"\r\n",
        "string2 = \"Hola\"\r\n",
        "print(string[7])\r\n"
      ],
      "execution_count": null,
      "outputs": []
    },
    {
      "cell_type": "code",
      "metadata": {
        "id": "-246V4yuwicp"
      },
      "source": [
        "nuevostring = string + string1\r\n",
        "print(nuevostring)"
      ],
      "execution_count": null,
      "outputs": []
    },
    {
      "cell_type": "code",
      "metadata": {
        "id": "fxb1CqVgwsFs"
      },
      "source": [
        "print(string[6:12])\r\n"
      ],
      "execution_count": null,
      "outputs": []
    },
    {
      "cell_type": "code",
      "metadata": {
        "id": "jpIhlsPrwy-E"
      },
      "source": [
        "stringconespacios =\"   Hola , ¿ ves los espacios?   \"\r\n",
        "print(len(stringconespacios))"
      ],
      "execution_count": null,
      "outputs": []
    },
    {
      "cell_type": "code",
      "metadata": {
        "id": "MlaCz4c2YAK5"
      },
      "source": [
        "if string [0:4] == string2:\r\n",
        "    print(\"Los elementos son iguales\")\r\n",
        "else:\r\n",
        "    print(\"Los elementos no son iguales\")\r\n"
      ],
      "execution_count": null,
      "outputs": []
    },
    {
      "cell_type": "code",
      "metadata": {
        "id": "LKvHBReAY3nz"
      },
      "source": [
        "print(string2.lower())\r\n",
        "print(string2.upper())\r\n",
        "print(string2.replace(\"Ho\", \"Koa\"))\r\n"
      ],
      "execution_count": null,
      "outputs": []
    },
    {
      "cell_type": "markdown",
      "metadata": {
        "id": "KYAaPKSUaEyw"
      },
      "source": [
        "## **Listas**\r\n",
        "\r\n",
        "Que es una lista? \r\n"
      ]
    },
    {
      "cell_type": "code",
      "metadata": {
        "id": "aI8EYrZbaHVJ"
      },
      "source": [
        "listanumerica = [1, 2, 3, 4]\r\n",
        "listastring = [\"Peras\", \"Manzanas\", \"Plantanos\"]\r\n",
        "listacombinada = [\"Peras\", 2, \"Sandia\", 3]\r\n",
        "L1 = list(range(10)) # range permite generar un conjunto de valores\r\n"
      ],
      "execution_count": null,
      "outputs": []
    },
    {
      "cell_type": "code",
      "metadata": {
        "id": "DUBoPXdVblyX"
      },
      "source": [
        "print(listanumerica)\r\n",
        "print(listastring)\r\n",
        "print(listacombinada)\r\n",
        "print(L1)"
      ],
      "execution_count": null,
      "outputs": []
    },
    {
      "cell_type": "markdown",
      "metadata": {
        "id": "cgfyEyM_bzuO"
      },
      "source": [
        "## Uso de \"range\" y Generacion de listas"
      ]
    },
    {
      "cell_type": "code",
      "metadata": {
        "id": "h6z1zrMFb7KQ"
      },
      "source": [
        "L2= list(range(0, 20, 2))\r\n",
        "print(L2)"
      ],
      "execution_count": null,
      "outputs": []
    },
    {
      "cell_type": "code",
      "metadata": {
        "id": "35Bpq4qtcLQw"
      },
      "source": [
        "L3= list(range(0, 100, 3))\r\n",
        "print(L3)"
      ],
      "execution_count": null,
      "outputs": []
    },
    {
      "cell_type": "markdown",
      "metadata": {
        "id": "cIe7wXXVcVqX"
      },
      "source": [
        "## **Metodos Comunes de crear Listas**"
      ]
    },
    {
      "cell_type": "code",
      "metadata": {
        "id": "2kx5eKQUcUe-"
      },
      "source": [
        ""
      ],
      "execution_count": null,
      "outputs": []
    }
  ]
}