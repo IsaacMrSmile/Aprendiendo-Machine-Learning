{
  "nbformat": 4,
  "nbformat_minor": 0,
  "metadata": {
    "colab": {
      "name": "Programacion Orientada a Objetos.ipynb",
      "private_outputs": true,
      "provenance": [],
      "authorship_tag": "ABX9TyOjyU8oLcoEIV4uedVTleAI",
      "include_colab_link": true
    },
    "kernelspec": {
      "name": "python3",
      "display_name": "Python 3"
    }
  },
  "cells": [
    {
      "cell_type": "markdown",
      "metadata": {
        "id": "view-in-github",
        "colab_type": "text"
      },
      "source": [
        "<a href=\"https://colab.research.google.com/github/IsaacMrSmile/Aprendiendo-Machine-Learning/blob/main/Programacion_Orientada_a_Objetos.ipynb\" target=\"_parent\"><img src=\"https://colab.research.google.com/assets/colab-badge.svg\" alt=\"Open In Colab\"/></a>"
      ]
    },
    {
      "cell_type": "markdown",
      "metadata": {
        "id": "IKIMIcGil5-G"
      },
      "source": [
        "# **Clases & Instancias**\r\n",
        "\r\n",
        "las clase es un sistema para modelar la realidad, creando una clase practicamente definimos una clase de objetos que tienen todos los mismos atributos. los objetos creados que pertenecen a esta clase se denomina instancias.\r\n"
      ]
    },
    {
      "cell_type": "code",
      "metadata": {
        "id": "pLqh9ZFPmOhj"
      },
      "source": [
        "class Estudiante: # comando class, clase: estudiante\r\n",
        "    def _init_(self, nombre, apellido, curso): # asignamos sub clases\r\n",
        "        self.nombre = nombre\r\n",
        "        self.apellido =  apellido\r\n",
        "        self.curso = curso\r\n"
      ],
      "execution_count": null,
      "outputs": []
    },
    {
      "cell_type": "code",
      "metadata": {
        "id": "DUFIF49fmfSp"
      },
      "source": [
        "estudiante_1 = Estudiante('Juan', 'Gonzales', 'Python')\r\n",
        "estudiante_2 = Estudiante('Marta', 'Gonzales', 'Machine Learning')"
      ],
      "execution_count": null,
      "outputs": []
    }
  ]
}