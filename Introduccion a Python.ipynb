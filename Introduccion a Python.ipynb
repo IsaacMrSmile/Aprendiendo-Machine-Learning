{
  "nbformat": 4,
  "nbformat_minor": 0,
  "metadata": {
    "colab": {
      "name": "Untitled3.ipynb",
      "private_outputs": true,
      "provenance": [],
      "authorship_tag": "ABX9TyNrcBc4UNXBsIcvO245Y7jc",
      "include_colab_link": true
    },
    "kernelspec": {
      "name": "python3",
      "display_name": "Python 3"
    }
  },
  "cells": [
    {
      "cell_type": "markdown",
      "metadata": {
        "id": "view-in-github",
        "colab_type": "text"
      },
      "source": [
        "<a href=\"https://colab.research.google.com/github/IsaacMrSmile/Aprendiendo-Machine-Learning/blob/main/Introduccion%20a%20Python.ipynb\" target=\"_parent\"><img src=\"https://colab.research.google.com/assets/colab-badge.svg\" alt=\"Open In Colab\"/></a>"
      ]
    },
    {
      "cell_type": "markdown",
      "metadata": {
        "id": "xzWpvCUcuxi5"
      },
      "source": [
        "##Las variables"
      ]
    },
    {
      "cell_type": "markdown",
      "metadata": {
        "id": "FOUhe29swA3T"
      },
      "source": [
        "## Manejo de Strings en Python"
      ]
    },
    {
      "cell_type": "code",
      "metadata": {
        "id": "UXDpRShSuwiM"
      },
      "source": [
        "string = \"Hola a todos!\"\r\n",
        "string1 = \"Soy un Pokemon\"\r\n",
        "string2 = \"Hola\"\r\n",
        "print(string[7])\r\n"
      ],
      "execution_count": null,
      "outputs": []
    },
    {
      "cell_type": "code",
      "metadata": {
        "id": "-246V4yuwicp"
      },
      "source": [
        "nuevostring = string + string1\r\n",
        "print(nuevostring)"
      ],
      "execution_count": null,
      "outputs": []
    },
    {
      "cell_type": "code",
      "metadata": {
        "id": "fxb1CqVgwsFs"
      },
      "source": [
        "print(string[6:12])\r\n"
      ],
      "execution_count": null,
      "outputs": []
    },
    {
      "cell_type": "code",
      "metadata": {
        "id": "jpIhlsPrwy-E"
      },
      "source": [
        "stringconespacios =\"   Hola , ¿ ves los espacios?   \"\r\n",
        "print(len(stringconespacios))"
      ],
      "execution_count": null,
      "outputs": []
    },
    {
      "cell_type": "code",
      "metadata": {
        "id": "MlaCz4c2YAK5"
      },
      "source": [
        "if string [0:4] == string2:\r\n",
        "    print(\"Los elementos son iguales\")\r\n",
        "else:\r\n",
        "    print(\"Los elementos no son iguales\")\r\n"
      ],
      "execution_count": null,
      "outputs": []
    },
    {
      "cell_type": "code",
      "metadata": {
        "id": "LKvHBReAY3nz"
      },
      "source": [
        "print(string2.lower())\r\n",
        "print(string2.upper())\r\n",
        "print(string2.replace(\"Ho\", \"Koa\"))\r\n"
      ],
      "execution_count": null,
      "outputs": []
    },
    {
      "cell_type": "code",
      "metadata": {
        "id": "wYAevbkzZNwh"
      },
      "source": [
        "a = string.split(\"\")\r\n",
        "print(string.split(\"\"))\r\n",
        "print(a[0])\r\n"
      ],
      "execution_count": null,
      "outputs": []
    }
  ]
}