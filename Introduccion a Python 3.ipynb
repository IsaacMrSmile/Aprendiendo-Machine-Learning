{
  "nbformat": 4,
  "nbformat_minor": 0,
  "metadata": {
    "colab": {
      "name": "Uso_de_Try_Except (2).ipynb",
      "provenance": [],
      "collapsed_sections": [],
      "include_colab_link": true
    },
    "kernelspec": {
      "name": "python3",
      "display_name": "Python 3"
    }
  },
  "cells": [
    {
      "cell_type": "markdown",
      "metadata": {
        "id": "view-in-github",
        "colab_type": "text"
      },
      "source": [
        "<a href=\"https://colab.research.google.com/github/IsaacMrSmile/Aprendiendo-Machine-Learning/blob/main/Introduccion%20a%20Python%203.ipynb\" target=\"_parent\"><img src=\"https://colab.research.google.com/assets/colab-badge.svg\" alt=\"Open In Colab\"/></a>"
      ]
    },
    {
      "cell_type": "markdown",
      "metadata": {
        "id": "74IDvid9o576"
      },
      "source": [
        "# **Entrada de datos y Uso de Try-Except**"
      ]
    },
    {
      "cell_type": "code",
      "metadata": {
        "id": "u_sUC5ktodhF",
        "colab": {
          "base_uri": "https://localhost:8080/"
        },
        "outputId": "22237901-02d0-45b9-ed9e-b78d004fc06d"
      },
      "source": [
        "username = input(\"Introduce tu nombre:\")\n",
        "\n",
        "try:\n",
        "  print(username)\n",
        "except:\n",
        "  print(\"Algo ha ido mal\")\n",
        "finally:\n",
        "  print(\"la sentencia try ha finalizado\")\n"
      ],
      "execution_count": 1,
      "outputs": [
        {
          "output_type": "stream",
          "text": [
            "Introduce tu nombre:isaac esleytter\n",
            "isaac esleytter\n",
            "la sentencia try ha finalizado\n"
          ],
          "name": "stdout"
        }
      ]
    },
    {
      "cell_type": "code",
      "metadata": {
        "id": "zUe81utMpW6q",
        "colab": {
          "base_uri": "https://localhost:8080/"
        },
        "outputId": "e062bf84-64df-44fa-a9ab-f6ba79dd029a"
      },
      "source": [
        "Edad = input(\"Introduce tu edad:\")\n",
        "\n",
        "if int(Edad) < 0:\n",
        "  raise Exception(\"Introduce bien tu edad!\")\n",
        "else: \n",
        "  print(\"Tu edad es\",Edad)"
      ],
      "execution_count": 2,
      "outputs": [
        {
          "output_type": "stream",
          "text": [
            "Introduce tu edad:28\n",
            "Tu edad es 28\n"
          ],
          "name": "stdout"
        }
      ]
    },
    {
      "cell_type": "code",
      "metadata": {
        "id": "EHIxZ70lrBQE",
        "colab": {
          "base_uri": "https://localhost:8080/"
        },
        "outputId": "d94183b1-8010-4752-b72d-6781510d1ef1"
      },
      "source": [
        "try:\n",
        "  f = open(\"./test.txt\",\"w+\")\n",
        "  f.write(\"Pokemon\")\n",
        "  print(f)\n",
        "except:\n",
        "  print(\"Something went wrong when writing to the file\")\n",
        "finally:\n",
        "  f.close()"
      ],
      "execution_count": 4,
      "outputs": [
        {
          "output_type": "stream",
          "text": [
            "<_io.TextIOWrapper name='./test.txt' mode='w+' encoding='UTF-8'>\n"
          ],
          "name": "stdout"
        }
      ]
    },
    {
      "cell_type": "markdown",
      "metadata": {
        "id": "LMtVhk6JxX7i"
      },
      "source": [
        "# **Lectura de Archivos**"
      ]
    },
    {
      "cell_type": "code",
      "metadata": {
        "id": "K9DTVIgXxmtB",
        "colab": {
          "base_uri": "https://localhost:8080/",
          "height": 214
        },
        "outputId": "2a85053c-8ac7-4848-d967-565983d8e40f"
      },
      "source": [
        "f = open(\"/test.txt\", \"r\") # funcion \"open\" , nombre de archivo, la operacion que queremos realizar\n",
        "print(f.read(3)) # imprime lo 3 primero caracteres empezando desde el principio\n",
        "f = open(\"/test.txt\", \"r\")\n",
        "print(f.readline()) # leer linea a linea desde el comienzo del archivo"
      ],
      "execution_count": 5,
      "outputs": [
        {
          "output_type": "error",
          "ename": "FileNotFoundError",
          "evalue": "ignored",
          "traceback": [
            "\u001b[0;31m---------------------------------------------------------------------------\u001b[0m",
            "\u001b[0;31mFileNotFoundError\u001b[0m                         Traceback (most recent call last)",
            "\u001b[0;32m<ipython-input-5-41e4e7d02585>\u001b[0m in \u001b[0;36m<module>\u001b[0;34m()\u001b[0m\n\u001b[0;32m----> 1\u001b[0;31m \u001b[0mf\u001b[0m \u001b[0;34m=\u001b[0m \u001b[0mopen\u001b[0m\u001b[0;34m(\u001b[0m\u001b[0;34m\"/test.txt\"\u001b[0m\u001b[0;34m,\u001b[0m \u001b[0;34m\"r\"\u001b[0m\u001b[0;34m)\u001b[0m\u001b[0;34m\u001b[0m\u001b[0;34m\u001b[0m\u001b[0m\n\u001b[0m\u001b[1;32m      2\u001b[0m \u001b[0mprint\u001b[0m\u001b[0;34m(\u001b[0m\u001b[0mf\u001b[0m\u001b[0;34m.\u001b[0m\u001b[0mread\u001b[0m\u001b[0;34m(\u001b[0m\u001b[0;36m3\u001b[0m\u001b[0;34m)\u001b[0m\u001b[0;34m)\u001b[0m\u001b[0;34m\u001b[0m\u001b[0;34m\u001b[0m\u001b[0m\n\u001b[1;32m      3\u001b[0m \u001b[0mf\u001b[0m \u001b[0;34m=\u001b[0m \u001b[0mopen\u001b[0m\u001b[0;34m(\u001b[0m\u001b[0;34m\"/test.txt\"\u001b[0m\u001b[0;34m,\u001b[0m \u001b[0;34m\"r\"\u001b[0m\u001b[0;34m)\u001b[0m\u001b[0;34m\u001b[0m\u001b[0;34m\u001b[0m\u001b[0m\n\u001b[1;32m      4\u001b[0m \u001b[0mprint\u001b[0m\u001b[0;34m(\u001b[0m\u001b[0mf\u001b[0m\u001b[0;34m.\u001b[0m\u001b[0mreadline\u001b[0m\u001b[0;34m(\u001b[0m\u001b[0;34m)\u001b[0m\u001b[0;34m)\u001b[0m\u001b[0;34m\u001b[0m\u001b[0;34m\u001b[0m\u001b[0m\n",
            "\u001b[0;31mFileNotFoundError\u001b[0m: [Errno 2] No such file or directory: '/test.txt'"
          ]
        }
      ]
    },
    {
      "cell_type": "markdown",
      "metadata": {
        "id": "48bz_EdKyjSi"
      },
      "source": [
        "# **Lectura de Lineas**"
      ]
    },
    {
      "cell_type": "code",
      "metadata": {
        "id": "ylUktQDVyiFT",
        "colab": {
          "base_uri": "https://localhost:8080/",
          "height": 163
        },
        "outputId": "908c3975-ac4e-4de5-be85-17115cb821ae"
      },
      "source": [
        "print(f.readline()) # leemos la siguiente linea"
      ],
      "execution_count": 6,
      "outputs": [
        {
          "output_type": "error",
          "ename": "ValueError",
          "evalue": "ignored",
          "traceback": [
            "\u001b[0;31m---------------------------------------------------------------------------\u001b[0m",
            "\u001b[0;31mValueError\u001b[0m                                Traceback (most recent call last)",
            "\u001b[0;32m<ipython-input-6-7ede92726a19>\u001b[0m in \u001b[0;36m<module>\u001b[0;34m()\u001b[0m\n\u001b[0;32m----> 1\u001b[0;31m \u001b[0mprint\u001b[0m\u001b[0;34m(\u001b[0m\u001b[0mf\u001b[0m\u001b[0;34m.\u001b[0m\u001b[0mreadline\u001b[0m\u001b[0;34m(\u001b[0m\u001b[0;34m)\u001b[0m\u001b[0;34m)\u001b[0m\u001b[0;34m\u001b[0m\u001b[0;34m\u001b[0m\u001b[0m\n\u001b[0m",
            "\u001b[0;31mValueError\u001b[0m: I/O operation on closed file."
          ]
        }
      ]
    },
    {
      "cell_type": "code",
      "metadata": {
        "id": "R72IX4izyuKB",
        "colab": {
          "base_uri": "https://localhost:8080/",
          "height": 214
        },
        "outputId": "6e98476c-b205-4ba5-a964-d9bb77796ed5"
      },
      "source": [
        "f = open(\"/test.txt\", \"r\") # bucle para reccorrer todas la lineas\n",
        "for x in f:\n",
        "    print(x)\n",
        "f.close()"
      ],
      "execution_count": 7,
      "outputs": [
        {
          "output_type": "error",
          "ename": "FileNotFoundError",
          "evalue": "ignored",
          "traceback": [
            "\u001b[0;31m---------------------------------------------------------------------------\u001b[0m",
            "\u001b[0;31mFileNotFoundError\u001b[0m                         Traceback (most recent call last)",
            "\u001b[0;32m<ipython-input-7-b94479066214>\u001b[0m in \u001b[0;36m<module>\u001b[0;34m()\u001b[0m\n\u001b[0;32m----> 1\u001b[0;31m \u001b[0mf\u001b[0m \u001b[0;34m=\u001b[0m \u001b[0mopen\u001b[0m\u001b[0;34m(\u001b[0m\u001b[0;34m\"/test.txt\"\u001b[0m\u001b[0;34m,\u001b[0m \u001b[0;34m\"r\"\u001b[0m\u001b[0;34m)\u001b[0m\u001b[0;34m\u001b[0m\u001b[0;34m\u001b[0m\u001b[0m\n\u001b[0m\u001b[1;32m      2\u001b[0m \u001b[0;32mfor\u001b[0m \u001b[0mx\u001b[0m \u001b[0;32min\u001b[0m \u001b[0mf\u001b[0m\u001b[0;34m:\u001b[0m\u001b[0;34m\u001b[0m\u001b[0;34m\u001b[0m\u001b[0m\n\u001b[1;32m      3\u001b[0m     \u001b[0mprint\u001b[0m\u001b[0;34m(\u001b[0m\u001b[0mx\u001b[0m\u001b[0;34m)\u001b[0m\u001b[0;34m\u001b[0m\u001b[0;34m\u001b[0m\u001b[0m\n\u001b[1;32m      4\u001b[0m \u001b[0mf\u001b[0m\u001b[0;34m.\u001b[0m\u001b[0mclose\u001b[0m\u001b[0;34m(\u001b[0m\u001b[0;34m)\u001b[0m\u001b[0;34m\u001b[0m\u001b[0;34m\u001b[0m\u001b[0m\n",
            "\u001b[0;31mFileNotFoundError\u001b[0m: [Errno 2] No such file or directory: '/test.txt'"
          ]
        }
      ]
    },
    {
      "cell_type": "markdown",
      "metadata": {
        "id": "c35V0U0X0Ph6"
      },
      "source": [
        "# **Añadir elementos en Archivos**"
      ]
    },
    {
      "cell_type": "code",
      "metadata": {
        "id": "wfN0GaRkz-nF",
        "colab": {
          "base_uri": "https://localhost:8080/"
        },
        "outputId": "8a5faee0-09a0-4de3-f217-4236c2dc6d3d"
      },
      "source": [
        "f = open(\"/test1.txt\", \"a\") # \"a\" para añadir contenido\n",
        "f.write(\"Hola a todos\")\n",
        "f.close()\n",
        "f = open(\"/test1.txt\", \"r\")\n",
        "print(f.read())"
      ],
      "execution_count": 12,
      "outputs": [
        {
          "output_type": "stream",
          "text": [
            "Hola a todosHola a todosHola a todosHola a todos\n"
          ],
          "name": "stdout"
        }
      ]
    },
    {
      "cell_type": "markdown",
      "metadata": {
        "id": "AyMuLVk-1nLS"
      },
      "source": [
        "# **Escribir en Archivos**"
      ]
    },
    {
      "cell_type": "code",
      "metadata": {
        "id": "KyuP2Yin1lnD"
      },
      "source": [
        "f = open(\"/test3.txt\", \"w\") # lo sobre escribe en el archivo\n",
        "f.write(\"Se ha borrado el contenido guardado en test3\")\n",
        "f.close()"
      ],
      "execution_count": 10,
      "outputs": []
    },
    {
      "cell_type": "code",
      "metadata": {
        "id": "5Vmby-3c23Z7"
      },
      "source": [
        ""
      ],
      "execution_count": 10,
      "outputs": []
    },
    {
      "cell_type": "markdown",
      "metadata": {
        "id": "n1dp_tvf232a"
      },
      "source": [
        "# Crear **Archivos**"
      ]
    },
    {
      "cell_type": "code",
      "metadata": {
        "id": "2KyD0NV628c6",
        "colab": {
          "base_uri": "https://localhost:8080/"
        },
        "outputId": "d1c164ab-3bff-4ab4-a3a1-19f7627b7e1c"
      },
      "source": [
        "f = open(\"/myfile.txt\", \"x\") #x indica la creación del archivo\n",
        "\n",
        "f.write(\"Hola Mundo!\")"
      ],
      "execution_count": 13,
      "outputs": [
        {
          "output_type": "execute_result",
          "data": {
            "text/plain": [
              "11"
            ]
          },
          "metadata": {
            "tags": []
          },
          "execution_count": 13
        }
      ]
    },
    {
      "cell_type": "code",
      "metadata": {
        "id": "7nmdZpgh3QXx"
      },
      "source": [
        "\n",
        "f1 = open(\"/myfile.txt\", \"w\")\n",
        "f1.write(\"Hola Mundo!\")\n",
        "f1.write(\"\\n\")\n",
        "f1.write(\"Hey\")\n",
        "f1.close()\n"
      ],
      "execution_count": 14,
      "outputs": []
    }
  ]
}