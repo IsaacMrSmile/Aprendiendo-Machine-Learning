{
  "nbformat": 4,
  "nbformat_minor": 0,
  "metadata": {
    "colab": {
      "name": "Introduccion a Python 2.ipynb",
      "private_outputs": true,
      "provenance": [],
      "authorship_tag": "ABX9TyOFIeaWo/QexQfKIR/nwXwP",
      "include_colab_link": true
    },
    "kernelspec": {
      "name": "python3",
      "display_name": "Python 3"
    }
  },
  "cells": [
    {
      "cell_type": "markdown",
      "metadata": {
        "id": "view-in-github",
        "colab_type": "text"
      },
      "source": [
        "<a href=\"https://colab.research.google.com/github/IsaacMrSmile/Aprendiendo-Machine-Learning/blob/main/Introduccion_a_Python_2.ipynb\" target=\"_parent\"><img src=\"https://colab.research.google.com/assets/colab-badge.svg\" alt=\"Open In Colab\"/></a>"
      ]
    },
    {
      "cell_type": "markdown",
      "metadata": {
        "id": "7uaL_7G3XY-J"
      },
      "source": [
        "# **Funciones en Python**"
      ]
    },
    {
      "cell_type": "code",
      "metadata": {
        "id": "IRYPCZpKXguL"
      },
      "source": [
        "def suma (a, b):\r\n",
        "    return a + b\r\n",
        "a = 40\r\n",
        "b = 10\r\n",
        "suma(a,b)"
      ],
      "execution_count": null,
      "outputs": []
    },
    {
      "cell_type": "code",
      "metadata": {
        "id": "Q-vk94x2XvWY"
      },
      "source": [
        "def resto(a,b):\r\n",
        "    return a%b\r\n",
        "resto(2,5)"
      ],
      "execution_count": null,
      "outputs": []
    },
    {
      "cell_type": "code",
      "metadata": {
        "id": "NnuGsbvLX6x5"
      },
      "source": [
        "def cuenta(c):\r\n",
        "    return c.count(\"Hola\")\r\n",
        "cuenta(\"Hola don pepito, Hola don jose, Hola a todos\")"
      ],
      "execution_count": null,
      "outputs": []
    }
  ]
}