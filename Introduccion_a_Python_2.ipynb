{
  "nbformat": 4,
  "nbformat_minor": 0,
  "metadata": {
    "colab": {
      "name": "Introduccion a Python 2.ipynb",
      "private_outputs": true,
      "provenance": [],
      "authorship_tag": "ABX9TyOl+GCOSe2BrdcYS7hbcE5h",
      "include_colab_link": true
    },
    "kernelspec": {
      "name": "python3",
      "display_name": "Python 3"
    }
  },
  "cells": [
    {
      "cell_type": "markdown",
      "metadata": {
        "id": "view-in-github",
        "colab_type": "text"
      },
      "source": [
        "<a href=\"https://colab.research.google.com/github/IsaacMrSmile/Aprendiendo-Machine-Learning/blob/main/Introduccion_a_Python_2.ipynb\" target=\"_parent\"><img src=\"https://colab.research.google.com/assets/colab-badge.svg\" alt=\"Open In Colab\"/></a>"
      ]
    },
    {
      "cell_type": "markdown",
      "metadata": {
        "id": "7uaL_7G3XY-J"
      },
      "source": [
        "# **Funciones en Python**"
      ]
    },
    {
      "cell_type": "code",
      "metadata": {
        "id": "IRYPCZpKXguL"
      },
      "source": [
        "def suma (a, b):\r\n",
        "    return a + b\r\n",
        "a = 40\r\n",
        "b = 10\r\n",
        "suma(a,b)"
      ],
      "execution_count": null,
      "outputs": []
    },
    {
      "cell_type": "code",
      "metadata": {
        "id": "Q-vk94x2XvWY"
      },
      "source": [
        "def resto(a,b):\r\n",
        "    return a%b\r\n",
        "resto(2,5)"
      ],
      "execution_count": null,
      "outputs": []
    },
    {
      "cell_type": "markdown",
      "metadata": {
        "id": "2H7vWh6rY9AX"
      },
      "source": [
        "## **Funciones Recursivas**"
      ]
    },
    {
      "cell_type": "code",
      "metadata": {
        "id": "NnuGsbvLX6x5"
      },
      "source": [
        "def cuenta(c): # funciones que leen string, cuenta el numero de veces que aparece \"Hola\" en una frase\r\n",
        "    return c.count(\"Hola\")\r\n",
        "cuenta(\"Hola don pepito, Hola don jose, Hola a todos\")"
      ],
      "execution_count": null,
      "outputs": []
    },
    {
      "cell_type": "code",
      "metadata": {
        "id": "lvc5sfypZYei"
      },
      "source": [
        "# 4! = 4*3*2\r\n",
        "def recursion (x):\r\n",
        "    if x == 1:\r\n",
        "        return 1\r\n",
        "    else:\r\n",
        "        return (x * recursion(x-1))\r\n",
        "recursion(4)"
      ],
      "execution_count": null,
      "outputs": []
    },
    {
      "cell_type": "markdown",
      "metadata": {
        "id": "t2dOviIpZ4DG"
      },
      "source": [
        "## **Funcion Lambda**\r\n",
        "\r\n",
        "\r\n",
        "\r\n",
        "*   Funciones anonimas\r\n",
        "*   Puede contener multiples parametro, pero solamente una expresion es evaluada\r\n",
        "*   Se suelen escribir en una linea de codigo\r\n",
        "\r\n",
        "\r\n",
        "\r\n"
      ]
    },
    {
      "cell_type": "code",
      "metadata": {
        "id": "zfiveYdeaPI8"
      },
      "source": [
        "def suma(x,y): # funciones que no se tienen que definir \r\n",
        "    return x + y;"
      ],
      "execution_count": null,
      "outputs": []
    },
    {
      "cell_type": "code",
      "metadata": {
        "id": "fPAdAI-hasw7"
      },
      "source": [
        "add = lambda x,y : x+y; # operacion que debe de hacer"
      ],
      "execution_count": null,
      "outputs": []
    },
    {
      "cell_type": "code",
      "metadata": {
        "id": "C6l2g5gUax8h"
      },
      "source": [
        "print(suma(1,2))"
      ],
      "execution_count": null,
      "outputs": []
    },
    {
      "cell_type": "code",
      "metadata": {
        "id": "7xlxmTLtazyj"
      },
      "source": [
        "print(add(1,8)) # funcion lambda de suma\r\n",
        "\r\n"
      ],
      "execution_count": null,
      "outputs": []
    },
    {
      "cell_type": "code",
      "metadata": {
        "id": "2vfEGwOFa6fX"
      },
      "source": [
        "lista = [ 1, 2, 4, 20, 5, 21, 7, 8, 40, 2]; # valores\r\n",
        "filtro = filter (lambda x : x > 6, lista) # valores que sean mayor de 6, usamos lambda, usamos en la lista\r\n",
        "print(list(filtro)) # para ejecutar debemos usar la funcion list, queda una lista de los valores"
      ],
      "execution_count": null,
      "outputs": []
    },
    {
      "cell_type": "code",
      "metadata": {
        "id": "mqTURHEKbj1y"
      },
      "source": [
        "mapping = map(lambda x: x*x,lista) # funcion \"map\", que cada elemento se le aplique una operativa\r\n",
        "print(list(mapping))"
      ],
      "execution_count": null,
      "outputs": []
    },
    {
      "cell_type": "markdown",
      "metadata": {
        "id": "JVwlQ3fCceFc"
      },
      "source": [
        "# **Clases en Python**"
      ]
    },
    {
      "cell_type": "code",
      "metadata": {
        "id": "J8Z5Lpb7cpzO"
      },
      "source": [
        "# una clase es una estructura de datos mas compleja la cual permite representar los datos mas complejos\r\n",
        "class Persona: # clase general\r\n",
        "    def _init_(self, nombre, edad): # metodo de la inicializacion\r\n",
        "        self.nombre = nombre\r\n",
        "        self.edad = edad\r\n",
        "    def esmayoredad(self): # recibe un parametro propio de la funcion, local a la funcion\r\n",
        "        if self.edad >= 18: # propio de esta funcion\r\n",
        "            return True\r\n",
        "        else:\r\n",
        "            return False\r\n",
        "    def setedad(self,edad): # metodo de \"set\" = cambiar el valor y \"get\"\r\n",
        "        self.edad = edad\r\n",
        "    def setnombre (self,nombre):\r\n",
        "        self.nombre = nombre    \r\n",
        "    def getedad(self):\r\n",
        "        return self.edad\r\n",
        "  \r\n",
        "p1 = Persona(\"Kevin\",26)\r\n",
        "print(p1.nombre)\r\n",
        "print(p1.edad)\r\n",
        "print(p1.esmayoredad())\r\n",
        "p1.setedad(13)\r\n",
        "print(p1.getedad())\r\n",
        "p1.esmayoredad()\r\n"
      ],
      "execution_count": null,
      "outputs": []
    },
    {
      "cell_type": "markdown",
      "metadata": {
        "id": "erPxICJIhlWx"
      },
      "source": [
        " # **Lectura de Archivos**"
      ]
    },
    {
      "cell_type": "code",
      "metadata": {
        "id": "WjGWet81hrNw"
      },
      "source": [
        "f = open(\"/test.txt\", \"r\") # funcion open, \r\n",
        "print(f.read(3))\r\n",
        "f = open(\"/test.txt\", \"r\")\r\n",
        "print(f.readline())"
      ],
      "execution_count": null,
      "outputs": []
    }
  ]
}